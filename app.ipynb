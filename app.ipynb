{
 "cells": [
  {
   "cell_type": "code",
   "execution_count": null,
   "metadata": {},
   "outputs": [],
   "source": [
    "# import for api call\n",
    "import requests \n",
    "import json\n",
    "import time\n",
    "import matplotlib.pyplot as plt\n",
    "import datetime\n",
    "\n",
    "# enabling animations on jupyter notebook\n",
    "%matplotlib notebook\n",
    "plt.rcParams['animation.html'] = 'jshtml'\n",
    "\n",
    "# initialise a figure\n",
    "fig = plt.figure()\n",
    "\n",
    "# adding a subplot\n",
    "# 1x2 grid at position 1\n",
    "ax = fig.add_subplot(111)\n",
    "\n",
    "# show plot\n",
    "fig.show()\n",
    "\n",
    "\n",
    "while True:\n",
    "    x, y, z = [], [], []\n",
    "\n",
    "    url = ' http://84550860.ngrok.io/readings'\n",
    "    response = requests.get(url).json()\n",
    "    \n",
    "   \n",
    "    for reading in response:\n",
    "        x.append(reading['time'])\n",
    "        y.append(reading['temp'])\n",
    "        z.append(reading['humidity'])\n",
    "    \n",
    "    ax.plot(x, y, color='b')\n",
    "    ax.plot(x, z, color='r')\n",
    "    \n",
    "    plt.xticks(rotation=45, ha='right')\n",
    "    \n",
    "    fig.canvas.draw()    \n",
    "    time.sleep(1)\n",
    "    \n",
    "plt.close()"
   ]
  }
 ],
 "metadata": {
  "kernelspec": {
   "display_name": "Python 3",
   "language": "python",
   "name": "python3"
  },
  "language_info": {
   "codemirror_mode": {
    "name": "ipython",
    "version": 3
   },
   "file_extension": ".py",
   "mimetype": "text/x-python",
   "name": "python",
   "nbconvert_exporter": "python",
   "pygments_lexer": "ipython3",
   "version": "3.6.7"
  }
 },
 "nbformat": 4,
 "nbformat_minor": 2
}
